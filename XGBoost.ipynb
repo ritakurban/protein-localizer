{
  "cells": [
    {
      "cell_type": "markdown",
      "source": [
        "# XGBoost Model for Protein Localization"
      ],
      "metadata": {
        "id": "6thXi0uJUNsy"
      }
    },
    {
      "cell_type": "code",
      "execution_count": 1,
      "metadata": {
        "id": "tKw6qSTzzJjA",
        "colab": {
          "base_uri": "https://localhost:8080/"
        },
        "outputId": "f58e7e53-b1dc-4055-de9a-e7e113f1f299"
      },
      "outputs": [
        {
          "output_type": "stream",
          "name": "stdout",
          "text": [
            "\u001b[2K     \u001b[90m━━━━━━━━━━━━━━━━━━━━━━━━━━━━━━━━━━━━━━━\u001b[0m \u001b[32m212.8/212.8 KB\u001b[0m \u001b[31m5.4 MB/s\u001b[0m eta \u001b[36m0:00:00\u001b[0m\n",
            "\u001b[2K     \u001b[90m━━━━━━━━━━━━━━━━━━━━━━━━━━━━━━━━━━━━━━━━\u001b[0m \u001b[32m3.1/3.1 MB\u001b[0m \u001b[31m15.9 MB/s\u001b[0m eta \u001b[36m0:00:00\u001b[0m\n",
            "\u001b[2K     \u001b[90m━━━━━━━━━━━━━━━━━━━━━━━━━━━━━━━━━━━━━━━━\u001b[0m \u001b[32m6.7/6.7 MB\u001b[0m \u001b[31m60.6 MB/s\u001b[0m eta \u001b[36m0:00:00\u001b[0m\n",
            "\u001b[2K     \u001b[90m━━━━━━━━━━━━━━━━━━━━━━━━━━━━━━━━━━━━━━━━\u001b[0m \u001b[32m81.4/81.4 KB\u001b[0m \u001b[31m6.5 MB/s\u001b[0m eta \u001b[36m0:00:00\u001b[0m\n",
            "\u001b[2K     \u001b[90m━━━━━━━━━━━━━━━━━━━━━━━━━━━━━━━━━━━━━━\u001b[0m \u001b[32m469.0/469.0 KB\u001b[0m \u001b[31m27.7 MB/s\u001b[0m eta \u001b[36m0:00:00\u001b[0m\n",
            "\u001b[2K     \u001b[90m━━━━━━━━━━━━━━━━━━━━━━━━━━━━━━━━━━━━━━━━\u001b[0m \u001b[32m62.8/62.8 KB\u001b[0m \u001b[31m4.9 MB/s\u001b[0m eta \u001b[36m0:00:00\u001b[0m\n",
            "\u001b[2K     \u001b[90m━━━━━━━━━━━━━━━━━━━━━━━━━━━━━━━━━━━━━━━━\u001b[0m \u001b[32m12.2/12.2 MB\u001b[0m \u001b[31m61.9 MB/s\u001b[0m eta \u001b[36m0:00:00\u001b[0m\n",
            "\u001b[2K     \u001b[90m━━━━━━━━━━━━━━━━━━━━━━━━━━━━━━━━━━━━━━━━\u001b[0m \u001b[32m2.0/2.0 MB\u001b[0m \u001b[31m53.9 MB/s\u001b[0m eta \u001b[36m0:00:00\u001b[0m\n",
            "\u001b[2K     \u001b[90m━━━━━━━━━━━━━━━━━━━━━━━━━━━━━━━━━━━━━━\u001b[0m \u001b[32m199.8/199.8 KB\u001b[0m \u001b[31m11.2 MB/s\u001b[0m eta \u001b[36m0:00:00\u001b[0m\n",
            "\u001b[2K     \u001b[90m━━━━━━━━━━━━━━━━━━━━━━━━━━━━━━━━━━━━━━━━\u001b[0m \u001b[32m7.6/7.6 MB\u001b[0m \u001b[31m61.5 MB/s\u001b[0m eta \u001b[36m0:00:00\u001b[0m\n",
            "\u001b[2K     \u001b[90m━━━━━━━━━━━━━━━━━━━━━━━━━━━━━━━━━━━━━━\u001b[0m \u001b[32m212.2/212.2 KB\u001b[0m \u001b[31m11.1 MB/s\u001b[0m eta \u001b[36m0:00:00\u001b[0m\n",
            "\u001b[2K     \u001b[90m━━━━━━━━━━━━━━━━━━━━━━━━━━━━━━━━━━━━━━━\u001b[0m \u001b[32m110.5/110.5 KB\u001b[0m \u001b[31m9.0 MB/s\u001b[0m eta \u001b[36m0:00:00\u001b[0m\n",
            "\u001b[2K     \u001b[90m━━━━━━━━━━━━━━━━━━━━━━━━━━━━━━━━━━━━━━━\u001b[0m \u001b[32m132.9/132.9 KB\u001b[0m \u001b[31m8.2 MB/s\u001b[0m eta \u001b[36m0:00:00\u001b[0m\n",
            "\u001b[2K     \u001b[90m━━━━━━━━━━━━━━━━━━━━━━━━━━━━━━━━━━━━━━━━\u001b[0m \u001b[32m1.0/1.0 MB\u001b[0m \u001b[31m30.9 MB/s\u001b[0m eta \u001b[36m0:00:00\u001b[0m\n",
            "\u001b[2K     \u001b[90m━━━━━━━━━━━━━━━━━━━━━━━━━━━━━━━━━━━━━━\u001b[0m \u001b[32m189.1/189.1 KB\u001b[0m \u001b[31m11.5 MB/s\u001b[0m eta \u001b[36m0:00:00\u001b[0m\n",
            "\u001b[?25h  Preparing metadata (setup.py) ... \u001b[?25l\u001b[?25hdone\n",
            "\u001b[2K     \u001b[90m━━━━━━━━━━━━━━━━━━━━━━━━━━━━━━━━━━━━━━\u001b[0m \u001b[32m184.3/184.3 KB\u001b[0m \u001b[31m14.4 MB/s\u001b[0m eta \u001b[36m0:00:00\u001b[0m\n",
            "\u001b[2K     \u001b[90m━━━━━━━━━━━━━━━━━━━━━━━━━━━━━━━━━━━━━━━\u001b[0m \u001b[32m264.6/264.6 KB\u001b[0m \u001b[31m7.7 MB/s\u001b[0m eta \u001b[36m0:00:00\u001b[0m\n",
            "\u001b[2K     \u001b[90m━━━━━━━━━━━━━━━━━━━━━━━━━━━━━━━━━━━━━━━\u001b[0m \u001b[32m158.8/158.8 KB\u001b[0m \u001b[31m1.6 MB/s\u001b[0m eta \u001b[36m0:00:00\u001b[0m\n",
            "\u001b[2K     \u001b[90m━━━━━━━━━━━━━━━━━━━━━━━━━━━━━━━━━━━━━\u001b[0m \u001b[32m114.2/114.2 KB\u001b[0m \u001b[31m841.9 kB/s\u001b[0m eta \u001b[36m0:00:00\u001b[0m\n",
            "\u001b[2K     \u001b[90m━━━━━━━━━━━━━━━━━━━━━━━━━━━━━━━━━━━━━━━━\u001b[0m \u001b[32m62.7/62.7 KB\u001b[0m \u001b[31m6.6 MB/s\u001b[0m eta \u001b[36m0:00:00\u001b[0m\n",
            "\u001b[?25h  Building wheel for pathtools (setup.py) ... \u001b[?25l\u001b[?25hdone\n"
          ]
        }
      ],
      "source": [
        "# install packages\n",
        "!pip install -q accelerate biopython transformers evaluate datasets requests pandas wandb optuna -U scikit-learn"
      ]
    },
    {
      "cell_type": "code",
      "execution_count": null,
      "metadata": {
        "colab": {
          "base_uri": "https://localhost:8080/"
        },
        "id": "bDI5ufe94WQI",
        "outputId": "b429db38-5c4f-44ff-a77d-3179e8a327a2"
      },
      "outputs": [
        {
          "output_type": "stream",
          "name": "stdout",
          "text": [
            "Mounted at /content/gdrive\n"
          ]
        }
      ],
      "source": [
        "# Mount drive\n",
        "from google.colab import drive\n",
        "drive.mount('/content/gdrive', force_remount=True) # to enable connection to the drive"
      ]
    },
    {
      "cell_type": "code",
      "execution_count": null,
      "metadata": {
        "id": "cHEpxHQlA0-a"
      },
      "outputs": [],
      "source": [
        "drive_path = 'gdrive/MyDrive/Colab Notebooks/'"
      ]
    },
    {
      "cell_type": "code",
      "execution_count": null,
      "metadata": {
        "id": "OAwM1g6b3rc0"
      },
      "outputs": [],
      "source": [
        "# Extract sequences\n",
        "from Bio import SeqIO\n",
        "import pandas as pd\n",
        "import matplotlib.pyplot as plt\n",
        "\n",
        "d = {'id':[], 'seq':[], 'label':[]}\n",
        "files = ['cyto.fasta.txt', 'mito.fasta.txt', 'nucleus.fasta.txt', 'other.fasta.txt', 'secreted.fasta.txt']\n",
        "for i in range(len(files)):\n",
        "  for seq_record in SeqIO.parse(open(drive_path+files[i]),'fasta'):\n",
        "    d['id'].append(seq_record.id)\n",
        "    d['seq'].append(''.join(seq_record.seq))\n",
        "    d['label'].append(i)"
      ]
    },
    {
      "cell_type": "code",
      "execution_count": null,
      "metadata": {
        "colab": {
          "base_uri": "https://localhost:8080/",
          "height": 206
        },
        "id": "HcS8VxRPi-5D",
        "outputId": "08014b3f-4f76-4a16-9453-3c3bbf6d8bca"
      },
      "outputs": [
        {
          "output_type": "execute_result",
          "data": {
            "text/plain": [
              "                      id                                                seq  \\\n",
              "0   sp|Q4JIM5|ABL2_MOUSE  MGQQVGRVGEAPGLQQPQPRGIRGSSAARPSGRRRDPAGRTADAGF...   \n",
              "1   sp|P15891|ABP1_YEAST  MALEPIDYTTHSREIDAEYLKIVRGSDPDTTWLIISPNAKKEYEPE...   \n",
              "2  sp|P35609|ACTN2_HUMAN  MNQIEPGVQYNYVYDEDEYMIQEEEWDRDLLLDPAWEKQQRKTFTA...   \n",
              "3  sp|P05095|ACTNA_DICDI  MSEEPTPVSGNDKQLLNKAWEITQKKTFTAWCNSHLRKLGSSIEQI...   \n",
              "4   sp|Q9Y2D8|ADIP_HUMAN  MGDWMTVTDPGLSSESKTISQYTSETKMSPSSLYSQQVLCSSIPLS...   \n",
              "\n",
              "   label  \n",
              "0      0  \n",
              "1      0  \n",
              "2      0  \n",
              "3      0  \n",
              "4      0  "
            ],
            "text/html": [
              "\n",
              "  <div id=\"df-c2c9d137-593e-4d1f-b78f-f191cc0bfc11\">\n",
              "    <div class=\"colab-df-container\">\n",
              "      <div>\n",
              "<style scoped>\n",
              "    .dataframe tbody tr th:only-of-type {\n",
              "        vertical-align: middle;\n",
              "    }\n",
              "\n",
              "    .dataframe tbody tr th {\n",
              "        vertical-align: top;\n",
              "    }\n",
              "\n",
              "    .dataframe thead th {\n",
              "        text-align: right;\n",
              "    }\n",
              "</style>\n",
              "<table border=\"1\" class=\"dataframe\">\n",
              "  <thead>\n",
              "    <tr style=\"text-align: right;\">\n",
              "      <th></th>\n",
              "      <th>id</th>\n",
              "      <th>seq</th>\n",
              "      <th>label</th>\n",
              "    </tr>\n",
              "  </thead>\n",
              "  <tbody>\n",
              "    <tr>\n",
              "      <th>0</th>\n",
              "      <td>sp|Q4JIM5|ABL2_MOUSE</td>\n",
              "      <td>MGQQVGRVGEAPGLQQPQPRGIRGSSAARPSGRRRDPAGRTADAGF...</td>\n",
              "      <td>0</td>\n",
              "    </tr>\n",
              "    <tr>\n",
              "      <th>1</th>\n",
              "      <td>sp|P15891|ABP1_YEAST</td>\n",
              "      <td>MALEPIDYTTHSREIDAEYLKIVRGSDPDTTWLIISPNAKKEYEPE...</td>\n",
              "      <td>0</td>\n",
              "    </tr>\n",
              "    <tr>\n",
              "      <th>2</th>\n",
              "      <td>sp|P35609|ACTN2_HUMAN</td>\n",
              "      <td>MNQIEPGVQYNYVYDEDEYMIQEEEWDRDLLLDPAWEKQQRKTFTA...</td>\n",
              "      <td>0</td>\n",
              "    </tr>\n",
              "    <tr>\n",
              "      <th>3</th>\n",
              "      <td>sp|P05095|ACTNA_DICDI</td>\n",
              "      <td>MSEEPTPVSGNDKQLLNKAWEITQKKTFTAWCNSHLRKLGSSIEQI...</td>\n",
              "      <td>0</td>\n",
              "    </tr>\n",
              "    <tr>\n",
              "      <th>4</th>\n",
              "      <td>sp|Q9Y2D8|ADIP_HUMAN</td>\n",
              "      <td>MGDWMTVTDPGLSSESKTISQYTSETKMSPSSLYSQQVLCSSIPLS...</td>\n",
              "      <td>0</td>\n",
              "    </tr>\n",
              "  </tbody>\n",
              "</table>\n",
              "</div>\n",
              "      <button class=\"colab-df-convert\" onclick=\"convertToInteractive('df-c2c9d137-593e-4d1f-b78f-f191cc0bfc11')\"\n",
              "              title=\"Convert this dataframe to an interactive table.\"\n",
              "              style=\"display:none;\">\n",
              "        \n",
              "  <svg xmlns=\"http://www.w3.org/2000/svg\" height=\"24px\"viewBox=\"0 0 24 24\"\n",
              "       width=\"24px\">\n",
              "    <path d=\"M0 0h24v24H0V0z\" fill=\"none\"/>\n",
              "    <path d=\"M18.56 5.44l.94 2.06.94-2.06 2.06-.94-2.06-.94-.94-2.06-.94 2.06-2.06.94zm-11 1L8.5 8.5l.94-2.06 2.06-.94-2.06-.94L8.5 2.5l-.94 2.06-2.06.94zm10 10l.94 2.06.94-2.06 2.06-.94-2.06-.94-.94-2.06-.94 2.06-2.06.94z\"/><path d=\"M17.41 7.96l-1.37-1.37c-.4-.4-.92-.59-1.43-.59-.52 0-1.04.2-1.43.59L10.3 9.45l-7.72 7.72c-.78.78-.78 2.05 0 2.83L4 21.41c.39.39.9.59 1.41.59.51 0 1.02-.2 1.41-.59l7.78-7.78 2.81-2.81c.8-.78.8-2.07 0-2.86zM5.41 20L4 18.59l7.72-7.72 1.47 1.35L5.41 20z\"/>\n",
              "  </svg>\n",
              "      </button>\n",
              "      \n",
              "  <style>\n",
              "    .colab-df-container {\n",
              "      display:flex;\n",
              "      flex-wrap:wrap;\n",
              "      gap: 12px;\n",
              "    }\n",
              "\n",
              "    .colab-df-convert {\n",
              "      background-color: #E8F0FE;\n",
              "      border: none;\n",
              "      border-radius: 50%;\n",
              "      cursor: pointer;\n",
              "      display: none;\n",
              "      fill: #1967D2;\n",
              "      height: 32px;\n",
              "      padding: 0 0 0 0;\n",
              "      width: 32px;\n",
              "    }\n",
              "\n",
              "    .colab-df-convert:hover {\n",
              "      background-color: #E2EBFA;\n",
              "      box-shadow: 0px 1px 2px rgba(60, 64, 67, 0.3), 0px 1px 3px 1px rgba(60, 64, 67, 0.15);\n",
              "      fill: #174EA6;\n",
              "    }\n",
              "\n",
              "    [theme=dark] .colab-df-convert {\n",
              "      background-color: #3B4455;\n",
              "      fill: #D2E3FC;\n",
              "    }\n",
              "\n",
              "    [theme=dark] .colab-df-convert:hover {\n",
              "      background-color: #434B5C;\n",
              "      box-shadow: 0px 1px 3px 1px rgba(0, 0, 0, 0.15);\n",
              "      filter: drop-shadow(0px 1px 2px rgba(0, 0, 0, 0.3));\n",
              "      fill: #FFFFFF;\n",
              "    }\n",
              "  </style>\n",
              "\n",
              "      <script>\n",
              "        const buttonEl =\n",
              "          document.querySelector('#df-c2c9d137-593e-4d1f-b78f-f191cc0bfc11 button.colab-df-convert');\n",
              "        buttonEl.style.display =\n",
              "          google.colab.kernel.accessAllowed ? 'block' : 'none';\n",
              "\n",
              "        async function convertToInteractive(key) {\n",
              "          const element = document.querySelector('#df-c2c9d137-593e-4d1f-b78f-f191cc0bfc11');\n",
              "          const dataTable =\n",
              "            await google.colab.kernel.invokeFunction('convertToInteractive',\n",
              "                                                     [key], {});\n",
              "          if (!dataTable) return;\n",
              "\n",
              "          const docLinkHtml = 'Like what you see? Visit the ' +\n",
              "            '<a target=\"_blank\" href=https://colab.research.google.com/notebooks/data_table.ipynb>data table notebook</a>'\n",
              "            + ' to learn more about interactive tables.';\n",
              "          element.innerHTML = '';\n",
              "          dataTable['output_type'] = 'display_data';\n",
              "          await google.colab.output.renderOutput(dataTable, element);\n",
              "          const docLink = document.createElement('div');\n",
              "          docLink.innerHTML = docLinkHtml;\n",
              "          element.appendChild(docLink);\n",
              "        }\n",
              "      </script>\n",
              "    </div>\n",
              "  </div>\n",
              "  "
            ]
          },
          "metadata": {},
          "execution_count": 6
        }
      ],
      "source": [
        "# Explore the data\n",
        "df = pd.DataFrame(d)\n",
        "df.head()"
      ]
    },
    {
      "cell_type": "code",
      "execution_count": null,
      "metadata": {
        "colab": {
          "base_uri": "https://localhost:8080/",
          "height": 248
        },
        "id": "J48zzPmPmlqn",
        "outputId": "d6bdd3eb-4f12-4c37-ecb2-0c80bca2b0e3"
      },
      "outputs": [
        {
          "output_type": "display_data",
          "data": {
            "text/plain": [
              "<Figure size 432x288 with 1 Axes>"
            ],
            "image/png": "[encoded data removed]"
          },
          "metadata": {}
        }
      ],
      "source": [
        "# Plot label dostribution\n",
        "df.groupby('label').count()['seq'].plot.pie()\n",
        "plt.show()"
      ]
    },
    {
      "cell_type": "markdown",
      "metadata": {
        "id": "e0aac39c"
      },
      "source": [
        "## Feature Engineering"
      ]
    },
    {
      "cell_type": "code",
      "execution_count": null,
      "metadata": {
        "colab": {
          "base_uri": "https://localhost:8080/"
        },
        "id": "_osmzEMaYAgv",
        "outputId": "c54be735-369e-4290-e70b-1439e0c81e2e"
      },
      "outputs": [
        {
          "output_type": "stream",
          "name": "stdout",
          "text": [
            "64\n"
          ]
        }
      ],
      "source": [
        "from Bio.SeqUtils import ProtParam\n",
        "from sklearn.decomposition import PCA\n",
        "from itertools import product\n",
        "\n",
        "def dipeptide_composition(sequence):\n",
        "    dipeptides = [''.join(dp) for dp in product('ACDEFGHIKLMNPQRSTVWY', repeat=2)]\n",
        "    composition = {}\n",
        "    for dipeptide in dipeptides:\n",
        "        count = sequence.count(dipeptide)\n",
        "        composition[dipeptide] = count / (len(sequence) - 1)\n",
        "    return composition\n",
        "\n",
        "import math\n",
        "\n",
        "\n",
        "def compute_features(sequence):\n",
        "    protein_analyzer = ProtParam.ProteinAnalysis(sequence)\n",
        "    molecular_weight = protein_analyzer.molecular_weight()\n",
        "    aromaticity = protein_analyzer.aromaticity()\n",
        "    instability_index = protein_analyzer.instability_index()\n",
        "    isoelectric_point = protein_analyzer.isoelectric_point()\n",
        "    secondary_structure_fraction = protein_analyzer.secondary_structure_fraction()\n",
        "    amino_acid_percent = protein_analyzer.get_amino_acids_percent()\n",
        "    flexibility = protein_analyzer.flexibility()\n",
        "    gravy = protein_analyzer.gravy()\n",
        "    charge_at_ph7 = protein_analyzer.charge_at_pH(7)\n",
        "    molar_extinction_coefficient = protein_analyzer.molar_extinction_coefficient()\n",
        "\n",
        "    feature_dict = {\n",
        "        'molecular_weight': molecular_weight,\n",
        "        'aromaticity': aromaticity,\n",
        "        'instability_index': instability_index,\n",
        "        'isoelectric_point': isoelectric_point,\n",
        "        'helix_fraction': secondary_structure_fraction[0],\n",
        "        'turn_fraction': secondary_structure_fraction[1],\n",
        "        'sheet_fraction': secondary_structure_fraction[2],\n",
        "        'gravy': gravy,\n",
        "        'charge_at_ph7': charge_at_ph7,\n",
        "        'molar_extinction_coefficient_reduced': molar_extinction_coefficient[0],\n",
        "        'molar_extinction_coefficient_cystines': molar_extinction_coefficient[1]\n",
        "    }\n",
        "    # Sequence length\n",
        "    feature_dict['sequence_length'] = len(sequence)\n",
        "\n",
        "    # Local amino acid composition\n",
        "    local_seq_start = sequence[:50]\n",
        "    local_seq_end = sequence[-50:]\n",
        "    local_pp_start =  ProtParam.ProteinAnalysis(local_seq_start)\n",
        "    local_pp_end =  ProtParam.ProteinAnalysis(local_seq_end)\n",
        "    for aa, comp_start in local_pp_start.get_amino_acids_percent().items():\n",
        "        feature_dict[f'local_composition_start_{aa}'] = comp_start\n",
        "    for aa, comp_end in local_pp_end.get_amino_acids_percent().items():\n",
        "        feature_dict[f'local_composition_end_{aa}'] = comp_end\n",
        "\n",
        "    dipeptide_comp = dipeptide_composition(sequence)\n",
        "    for dipeptide, comp in dipeptide_comp.items():\n",
        "        feature_dict[f'dipeptide_{dipeptide}'] = comp\n",
        "\n",
        "    for aa, percent in amino_acid_percent.items():\n",
        "        feature_dict[f'{aa}_percent'] = percent\n",
        "    return feature_dict\n",
        "\n",
        "def is_valid_sequence(sequence):\n",
        "    standard_amino_acids = set('ACDEFGHIKLMNPQRSTVWY')\n",
        "    return all(aa in standard_amino_acids for aa in sequence)\n",
        "\n",
        "def extract_features(dataframe):\n",
        "    features = []\n",
        "    i=0\n",
        "    for index, row in dataframe.iterrows():\n",
        "        sequence = row['seq']\n",
        "        if is_valid_sequence(sequence):\n",
        "          feature_dict = compute_features(sequence)\n",
        "          feature_dict['id'] = row['id']\n",
        "          feature_dict['label'] = row['label']\n",
        "          features.append(feature_dict)\n",
        "        else:\n",
        "          i+=1\n",
        "    print(i)\n",
        "    \n",
        "    return pd.DataFrame(features)\n",
        "\n",
        "output_df = extract_features(df)\n",
        "\n",
        "# Create a DataFrame containing only dipeptide features\n",
        "dipeptide_features = output_df.filter(like=\"dipeptide_\", axis=1)\n",
        "\n",
        "# Perform PCA with only 2 principal components on dipeptide features\n",
        "pca = PCA(n_components=2)\n",
        "principal_components = pca.fit_transform(dipeptide_features)\n",
        "\n",
        "# Create a new DataFrame with the principal components\n",
        "principal_df = pd.DataFrame(data=principal_components, columns=['principal_component_1', 'principal_component_2'])\n",
        "\n",
        "# Drop the original dipeptide features from the output DataFrame\n",
        "output_df = output_df.drop(dipeptide_features.columns, axis=1)\n",
        "\n",
        "# Concatenate the principal components with the output DataFrame\n",
        "output_df = pd.concat([output_df, principal_df], axis=1)"
      ]
    },
    {
      "cell_type": "code",
      "execution_count": null,
      "metadata": {
        "id": "GA51vxEWtRbX"
      },
      "outputs": [],
      "source": [
        "import numpy as np\n",
        "corr_matrix = output_df.corr().abs()\n",
        "\n",
        "# The matrix is symmetric so we need to extract upper triangle matrix without diagonal (k = 1)\n",
        "sol = (corr_matrix.where(np.triu(np.ones(corr_matrix.shape), k=1).astype(bool))\n",
        "                  .stack()\n",
        "                  .sort_values(ascending=False))\n",
        "sol.head(30)\n",
        "\n",
        "df = output_df.drop(columns=['turn_fraction', 'molar_extinction_coefficient_cystines','molar_extinction_coefficient_reduced', 'sequence_length', 'C_percent'])"
      ]
    },
    {
      "cell_type": "code",
      "execution_count": null,
      "metadata": {
        "colab": {
          "base_uri": "https://localhost:8080/"
        },
        "id": "fPgiiiYrFryQ",
        "outputId": "7cd82b99-a86c-4d56-dc2a-eb6e8dc953a1"
      },
      "outputs": [
        {
          "output_type": "execute_result",
          "data": {
            "text/plain": [
              "helix_fraction           gravy                    0.729855\n",
              "aromaticity              Y_percent                0.727869\n",
              "                         F_percent                0.716739\n",
              "K_percent                principal_component_1    0.712972\n",
              "A_percent                principal_component_1    0.708133\n",
              "sheet_fraction           principal_component_2    0.678301\n",
              "local_composition_end_K  K_percent                0.669126\n",
              "helix_fraction           principal_component_2    0.640699\n",
              "L_percent                principal_component_2    0.626803\n",
              "local_composition_end_A  A_percent                0.626645\n",
              "dtype: float64"
            ]
          },
          "metadata": {},
          "execution_count": 10
        }
      ],
      "source": [
        "corr_matrix = df.corr().abs()\n",
        "\n",
        "# The matrix is symmetric so we need to extract upper triangle matrix without diagonal (k = 1)\n",
        "sol = (corr_matrix.where(np.triu(np.ones(corr_matrix.shape), k=1).astype(bool))\n",
        "                  .stack()\n",
        "                  .sort_values(ascending=False))\n",
        "sol.head(10)\n"
      ]
    },
    {
      "cell_type": "code",
      "execution_count": null,
      "metadata": {
        "colab": {
          "base_uri": "https://localhost:8080/",
          "height": 331
        },
        "id": "7iYL97WPF4oh",
        "outputId": "5d350c7f-7d71-4fc0-8ef4-62434fe2ac7b"
      },
      "outputs": [
        {
          "output_type": "execute_result",
          "data": {
            "text/plain": [
              "       molecular_weight  aromaticity  instability_index  isoelectric_point  \\\n",
              "label                                                                        \n",
              "0          74551.982139     0.075662          47.535344           6.716411   \n",
              "1          42128.790059     0.083774          42.600264           8.385528   \n",
              "2          69918.565558     0.069682          52.353587           7.284225   \n",
              "3          47888.166275     0.090090          37.557622           6.999998   \n",
              "4          34215.486952     0.088190          40.083554           7.158281   \n",
              "\n",
              "       helix_fraction  sheet_fraction     gravy  charge_at_ph7  \\\n",
              "label                                                            \n",
              "0            0.280378        0.259699 -0.463223      -7.075396   \n",
              "1            0.302492        0.257239 -0.307167       5.709928   \n",
              "2            0.256054        0.250407 -0.627411      -1.905487   \n",
              "3            0.325365        0.275875 -0.123580      -3.222246   \n",
              "4            0.279495        0.224746 -0.268217      -3.668952   \n",
              "\n",
              "       local_composition_start_A  local_composition_start_C  ...  P_percent  \\\n",
              "label                                                        ...              \n",
              "0                       0.072643                   0.015869  ...   0.053727   \n",
              "1                       0.083432                   0.016821  ...   0.049259   \n",
              "2                       0.070093                   0.015187  ...   0.057484   \n",
              "3                       0.094725                   0.010899  ...   0.047045   \n",
              "4                       0.085336                   0.043548  ...   0.056225   \n",
              "\n",
              "       Q_percent  R_percent  S_percent  T_percent  V_percent  W_percent  \\\n",
              "label                                                                     \n",
              "0       0.045667   0.054141   0.083965   0.052579   0.059928   0.010472   \n",
              "1       0.039699   0.058883   0.076520   0.052780   0.063887   0.012211   \n",
              "2       0.047886   0.059449   0.091096   0.051543   0.053749   0.009320   \n",
              "3       0.038356   0.056593   0.063030   0.054428   0.071952   0.014931   \n",
              "4       0.036977   0.046552   0.074028   0.056490   0.060853   0.015117   \n",
              "\n",
              "       Y_percent  principal_component_1  principal_component_2  \n",
              "label                                                           \n",
              "0       0.028015              -0.003010               0.000620  \n",
              "1       0.030086              -0.000411              -0.003597  \n",
              "2       0.026073              -0.004377               0.004869  \n",
              "3       0.034758               0.008675              -0.009968  \n",
              "4       0.033819               0.004308               0.004273  \n",
              "\n",
              "[5 rows x 69 columns]"
            ],
            "text/html": [
              "\n",
              "  <div id=\"df-1360a161-fe8e-475f-9ef5-c43500f836b9\">\n",
              "    <div class=\"colab-df-container\">\n",
              "      <div>\n",
              "<style scoped>\n",
              "    .dataframe tbody tr th:only-of-type {\n",
              "        vertical-align: middle;\n",
              "    }\n",
              "\n",
              "    .dataframe tbody tr th {\n",
              "        vertical-align: top;\n",
              "    }\n",
              "\n",
              "    .dataframe thead th {\n",
              "        text-align: right;\n",
              "    }\n",
              "</style>\n",
              "<table border=\"1\" class=\"dataframe\">\n",
              "  <thead>\n",
              "    <tr style=\"text-align: right;\">\n",
              "      <th></th>\n",
              "      <th>molecular_weight</th>\n",
              "      <th>aromaticity</th>\n",
              "      <th>instability_index</th>\n",
              "      <th>isoelectric_point</th>\n",
              "      <th>helix_fraction</th>\n",
              "      <th>sheet_fraction</th>\n",
              "      <th>gravy</th>\n",
              "      <th>charge_at_ph7</th>\n",
              "      <th>local_composition_start_A</th>\n",
              "      <th>local_composition_start_C</th>\n",
              "      <th>...</th>\n",
              "      <th>P_percent</th>\n",
              "      <th>Q_percent</th>\n",
              "      <th>R_percent</th>\n",
              "      <th>S_percent</th>\n",
              "      <th>T_percent</th>\n",
              "      <th>V_percent</th>\n",
              "      <th>W_percent</th>\n",
              "      <th>Y_percent</th>\n",
              "      <th>principal_component_1</th>\n",
              "      <th>principal_component_2</th>\n",
              "    </tr>\n",
              "    <tr>\n",
              "      <th>label</th>\n",
              "      <th></th>\n",
              "      <th></th>\n",
              "      <th></th>\n",
              "      <th></th>\n",
              "      <th></th>\n",
              "      <th></th>\n",
              "      <th></th>\n",
              "      <th></th>\n",
              "      <th></th>\n",
              "      <th></th>\n",
              "      <th></th>\n",
              "      <th></th>\n",
              "      <th></th>\n",
              "      <th></th>\n",
              "      <th></th>\n",
              "      <th></th>\n",
              "      <th></th>\n",
              "      <th></th>\n",
              "      <th></th>\n",
              "      <th></th>\n",
              "      <th></th>\n",
              "    </tr>\n",
              "  </thead>\n",
              "  <tbody>\n",
              "    <tr>\n",
              "      <th>0</th>\n",
              "      <td>74551.982139</td>\n",
              "      <td>0.075662</td>\n",
              "      <td>47.535344</td>\n",
              "      <td>6.716411</td>\n",
              "      <td>0.280378</td>\n",
              "      <td>0.259699</td>\n",
              "      <td>-0.463223</td>\n",
              "      <td>-7.075396</td>\n",
              "      <td>0.072643</td>\n",
              "      <td>0.015869</td>\n",
              "      <td>...</td>\n",
              "      <td>0.053727</td>\n",
              "      <td>0.045667</td>\n",
              "      <td>0.054141</td>\n",
              "      <td>0.083965</td>\n",
              "      <td>0.052579</td>\n",
              "      <td>0.059928</td>\n",
              "      <td>0.010472</td>\n",
              "      <td>0.028015</td>\n",
              "      <td>-0.003010</td>\n",
              "      <td>0.000620</td>\n",
              "    </tr>\n",
              "    <tr>\n",
              "      <th>1</th>\n",
              "      <td>42128.790059</td>\n",
              "      <td>0.083774</td>\n",
              "      <td>42.600264</td>\n",
              "      <td>8.385528</td>\n",
              "      <td>0.302492</td>\n",
              "      <td>0.257239</td>\n",
              "      <td>-0.307167</td>\n",
              "      <td>5.709928</td>\n",
              "      <td>0.083432</td>\n",
              "      <td>0.016821</td>\n",
              "      <td>...</td>\n",
              "      <td>0.049259</td>\n",
              "      <td>0.039699</td>\n",
              "      <td>0.058883</td>\n",
              "      <td>0.076520</td>\n",
              "      <td>0.052780</td>\n",
              "      <td>0.063887</td>\n",
              "      <td>0.012211</td>\n",
              "      <td>0.030086</td>\n",
              "      <td>-0.000411</td>\n",
              "      <td>-0.003597</td>\n",
              "    </tr>\n",
              "    <tr>\n",
              "      <th>2</th>\n",
              "      <td>69918.565558</td>\n",
              "      <td>0.069682</td>\n",
              "      <td>52.353587</td>\n",
              "      <td>7.284225</td>\n",
              "      <td>0.256054</td>\n",
              "      <td>0.250407</td>\n",
              "      <td>-0.627411</td>\n",
              "      <td>-1.905487</td>\n",
              "      <td>0.070093</td>\n",
              "      <td>0.015187</td>\n",
              "      <td>...</td>\n",
              "      <td>0.057484</td>\n",
              "      <td>0.047886</td>\n",
              "      <td>0.059449</td>\n",
              "      <td>0.091096</td>\n",
              "      <td>0.051543</td>\n",
              "      <td>0.053749</td>\n",
              "      <td>0.009320</td>\n",
              "      <td>0.026073</td>\n",
              "      <td>-0.004377</td>\n",
              "      <td>0.004869</td>\n",
              "    </tr>\n",
              "    <tr>\n",
              "      <th>3</th>\n",
              "      <td>47888.166275</td>\n",
              "      <td>0.090090</td>\n",
              "      <td>37.557622</td>\n",
              "      <td>6.999998</td>\n",
              "      <td>0.325365</td>\n",
              "      <td>0.275875</td>\n",
              "      <td>-0.123580</td>\n",
              "      <td>-3.222246</td>\n",
              "      <td>0.094725</td>\n",
              "      <td>0.010899</td>\n",
              "      <td>...</td>\n",
              "      <td>0.047045</td>\n",
              "      <td>0.038356</td>\n",
              "      <td>0.056593</td>\n",
              "      <td>0.063030</td>\n",
              "      <td>0.054428</td>\n",
              "      <td>0.071952</td>\n",
              "      <td>0.014931</td>\n",
              "      <td>0.034758</td>\n",
              "      <td>0.008675</td>\n",
              "      <td>-0.009968</td>\n",
              "    </tr>\n",
              "    <tr>\n",
              "      <th>4</th>\n",
              "      <td>34215.486952</td>\n",
              "      <td>0.088190</td>\n",
              "      <td>40.083554</td>\n",
              "      <td>7.158281</td>\n",
              "      <td>0.279495</td>\n",
              "      <td>0.224746</td>\n",
              "      <td>-0.268217</td>\n",
              "      <td>-3.668952</td>\n",
              "      <td>0.085336</td>\n",
              "      <td>0.043548</td>\n",
              "      <td>...</td>\n",
              "      <td>0.056225</td>\n",
              "      <td>0.036977</td>\n",
              "      <td>0.046552</td>\n",
              "      <td>0.074028</td>\n",
              "      <td>0.056490</td>\n",
              "      <td>0.060853</td>\n",
              "      <td>0.015117</td>\n",
              "      <td>0.033819</td>\n",
              "      <td>0.004308</td>\n",
              "      <td>0.004273</td>\n",
              "    </tr>\n",
              "  </tbody>\n",
              "</table>\n",
              "<p>5 rows × 69 columns</p>\n",
              "</div>\n",
              "      <button class=\"colab-df-convert\" onclick=\"convertToInteractive('df-1360a161-fe8e-475f-9ef5-c43500f836b9')\"\n",
              "              title=\"Convert this dataframe to an interactive table.\"\n",
              "              style=\"display:none;\">\n",
              "        \n",
              "  <svg xmlns=\"http://www.w3.org/2000/svg\" height=\"24px\"viewBox=\"0 0 24 24\"\n",
              "       width=\"24px\">\n",
              "    <path d=\"M0 0h24v24H0V0z\" fill=\"none\"/>\n",
              "    <path d=\"M18.56 5.44l.94 2.06.94-2.06 2.06-.94-2.06-.94-.94-2.06-.94 2.06-2.06.94zm-11 1L8.5 8.5l.94-2.06 2.06-.94-2.06-.94L8.5 2.5l-.94 2.06-2.06.94zm10 10l.94 2.06.94-2.06 2.06-.94-2.06-.94-.94-2.06-.94 2.06-2.06.94z\"/><path d=\"M17.41 7.96l-1.37-1.37c-.4-.4-.92-.59-1.43-.59-.52 0-1.04.2-1.43.59L10.3 9.45l-7.72 7.72c-.78.78-.78 2.05 0 2.83L4 21.41c.39.39.9.59 1.41.59.51 0 1.02-.2 1.41-.59l7.78-7.78 2.81-2.81c.8-.78.8-2.07 0-2.86zM5.41 20L4 18.59l7.72-7.72 1.47 1.35L5.41 20z\"/>\n",
              "  </svg>\n",
              "      </button>\n",
              "      \n",
              "  <style>\n",
              "    .colab-df-container {\n",
              "      display:flex;\n",
              "      flex-wrap:wrap;\n",
              "      gap: 12px;\n",
              "    }\n",
              "\n",
              "    .colab-df-convert {\n",
              "      background-color: #E8F0FE;\n",
              "      border: none;\n",
              "      border-radius: 50%;\n",
              "      cursor: pointer;\n",
              "      display: none;\n",
              "      fill: #1967D2;\n",
              "      height: 32px;\n",
              "      padding: 0 0 0 0;\n",
              "      width: 32px;\n",
              "    }\n",
              "\n",
              "    .colab-df-convert:hover {\n",
              "      background-color: #E2EBFA;\n",
              "      box-shadow: 0px 1px 2px rgba(60, 64, 67, 0.3), 0px 1px 3px 1px rgba(60, 64, 67, 0.15);\n",
              "      fill: #174EA6;\n",
              "    }\n",
              "\n",
              "    [theme=dark] .colab-df-convert {\n",
              "      background-color: #3B4455;\n",
              "      fill: #D2E3FC;\n",
              "    }\n",
              "\n",
              "    [theme=dark] .colab-df-convert:hover {\n",
              "      background-color: #434B5C;\n",
              "      box-shadow: 0px 1px 3px 1px rgba(0, 0, 0, 0.15);\n",
              "      filter: drop-shadow(0px 1px 2px rgba(0, 0, 0, 0.3));\n",
              "      fill: #FFFFFF;\n",
              "    }\n",
              "  </style>\n",
              "\n",
              "      <script>\n",
              "        const buttonEl =\n",
              "          document.querySelector('#df-1360a161-fe8e-475f-9ef5-c43500f836b9 button.colab-df-convert');\n",
              "        buttonEl.style.display =\n",
              "          google.colab.kernel.accessAllowed ? 'block' : 'none';\n",
              "\n",
              "        async function convertToInteractive(key) {\n",
              "          const element = document.querySelector('#df-1360a161-fe8e-475f-9ef5-c43500f836b9');\n",
              "          const dataTable =\n",
              "            await google.colab.kernel.invokeFunction('convertToInteractive',\n",
              "                                                     [key], {});\n",
              "          if (!dataTable) return;\n",
              "\n",
              "          const docLinkHtml = 'Like what you see? Visit the ' +\n",
              "            '<a target=\"_blank\" href=https://colab.research.google.com/notebooks/data_table.ipynb>data table notebook</a>'\n",
              "            + ' to learn more about interactive tables.';\n",
              "          element.innerHTML = '';\n",
              "          dataTable['output_type'] = 'display_data';\n",
              "          await google.colab.output.renderOutput(dataTable, element);\n",
              "          const docLink = document.createElement('div');\n",
              "          docLink.innerHTML = docLinkHtml;\n",
              "          element.appendChild(docLink);\n",
              "        }\n",
              "      </script>\n",
              "    </div>\n",
              "  </div>\n",
              "  "
            ]
          },
          "metadata": {},
          "execution_count": 11
        }
      ],
      "source": [
        "df.groupby('label').mean()"
      ]
    },
    {
      "cell_type": "code",
      "source": [
        "# Final features\n",
        "df.columns"
      ],
      "metadata": {
        "colab": {
          "base_uri": "https://localhost:8080/"
        },
        "id": "YcPAMYHmuKjG",
        "outputId": "edc318d7-bfe7-4008-dec7-cb234f49697b"
      },
      "execution_count": null,
      "outputs": [
        {
          "output_type": "execute_result",
          "data": {
            "text/plain": [
              "Index(['molecular_weight', 'aromaticity', 'instability_index',\n",
              "       'isoelectric_point', 'helix_fraction', 'sheet_fraction', 'gravy',\n",
              "       'charge_at_ph7', 'local_composition_start_A',\n",
              "       'local_composition_start_C', 'local_composition_start_D',\n",
              "       'local_composition_start_E', 'local_composition_start_F',\n",
              "       'local_composition_start_G', 'local_composition_start_H',\n",
              "       'local_composition_start_I', 'local_composition_start_K',\n",
              "       'local_composition_start_L', 'local_composition_start_M',\n",
              "       'local_composition_start_N', 'local_composition_start_P',\n",
              "       'local_composition_start_Q', 'local_composition_start_R',\n",
              "       'local_composition_start_S', 'local_composition_start_T',\n",
              "       'local_composition_start_V', 'local_composition_start_W',\n",
              "       'local_composition_start_Y', 'local_composition_end_A',\n",
              "       'local_composition_end_C', 'local_composition_end_D',\n",
              "       'local_composition_end_E', 'local_composition_end_F',\n",
              "       'local_composition_end_G', 'local_composition_end_H',\n",
              "       'local_composition_end_I', 'local_composition_end_K',\n",
              "       'local_composition_end_L', 'local_composition_end_M',\n",
              "       'local_composition_end_N', 'local_composition_end_P',\n",
              "       'local_composition_end_Q', 'local_composition_end_R',\n",
              "       'local_composition_end_S', 'local_composition_end_T',\n",
              "       'local_composition_end_V', 'local_composition_end_W',\n",
              "       'local_composition_end_Y', 'A_percent', 'D_percent', 'E_percent',\n",
              "       'F_percent', 'G_percent', 'H_percent', 'I_percent', 'K_percent',\n",
              "       'L_percent', 'M_percent', 'N_percent', 'P_percent', 'Q_percent',\n",
              "       'R_percent', 'S_percent', 'T_percent', 'V_percent', 'W_percent',\n",
              "       'Y_percent', 'id', 'label', 'principal_component_1',\n",
              "       'principal_component_2'],\n",
              "      dtype='object')"
            ]
          },
          "metadata": {},
          "execution_count": 12
        }
      ]
    },
    {
      "cell_type": "markdown",
      "metadata": {
        "id": "9UTYeDoVL5c4"
      },
      "source": [
        "# Hyperparameter Tuning"
      ]
    },
    {
      "cell_type": "code",
      "execution_count": null,
      "metadata": {
        "id": "GBwLzhMML4hM"
      },
      "outputs": [],
      "source": [
        "import numpy as np\n",
        "import pandas as pd\n",
        "from sklearn.ensemble import RandomForestClassifier\n",
        "from sklearn.svm import SVC\n",
        "from xgboost import XGBClassifier\n",
        "from sklearn.model_selection import GridSearchCV, cross_val_score, StratifiedKFold\n",
        "from sklearn.metrics import f1_score, make_scorer\n",
        "import xgboost as xgb\n",
        "from sklearn.metrics import f1_score, accuracy_score, precision_score, recall_score\n",
        "from sklearn.metrics import make_scorer\n",
        "from sklearn.model_selection import GridSearchCV, KFold, cross_validate, cross_val_score\n",
        "from sklearn.model_selection import train_test_split"
      ]
    },
    {
      "cell_type": "code",
      "execution_count": null,
      "metadata": {
        "colab": {
          "base_uri": "https://localhost:8080/"
        },
        "id": "5GSl_8IpMRcr",
        "outputId": "190bc9ff-3b49-4eb6-87a8-7acc3e418c1a"
      },
      "outputs": [
        {
          "name": "stderr",
          "output_type": "stream",
          "text": [
            "\u001b[32m[I 2023-03-17 08:28:38,325]\u001b[0m A new study created in memory with name: no-name-46bb3623-2206-4487-b800-cce88a4c5fef\u001b[0m\n",
            "\u001b[32m[I 2023-03-17 08:29:47,443]\u001b[0m Trial 0 finished with value: 0.6637623711233452 and parameters: {'n_estimators': 125, 'max_depth': 6, 'learning_rate': 0.11800923433711132}. Best is trial 0 with value: 0.6637623711233452.\u001b[0m\n",
            "\u001b[32m[I 2023-03-17 08:30:41,895]\u001b[0m Trial 1 finished with value: 0.6662102953990962 and parameters: {'n_estimators': 158, 'max_depth': 5, 'learning_rate': 0.13533699963290372}. Best is trial 1 with value: 0.6662102953990962.\u001b[0m\n",
            "\u001b[32m[I 2023-03-17 08:31:29,773]\u001b[0m Trial 2 finished with value: 0.6446452535758079 and parameters: {'n_estimators': 88, 'max_depth': 8, 'learning_rate': 0.040780834953909405}. Best is trial 1 with value: 0.6662102953990962.\u001b[0m\n",
            "\u001b[32m[I 2023-03-17 08:32:20,554]\u001b[0m Trial 3 finished with value: 0.6638358998552717 and parameters: {'n_estimators': 108, 'max_depth': 7, 'learning_rate': 0.1481212362197578}. Best is trial 1 with value: 0.6662102953990962.\u001b[0m\n",
            "\u001b[32m[I 2023-03-17 08:32:44,928]\u001b[0m Trial 4 finished with value: 0.6650357715171772 and parameters: {'n_estimators': 67, 'max_depth': 6, 'learning_rate': 0.23868822283866528}. Best is trial 1 with value: 0.6662102953990962.\u001b[0m\n",
            "\u001b[32m[I 2023-03-17 08:32:57,096]\u001b[0m Trial 5 finished with value: 0.6334226297634186 and parameters: {'n_estimators': 51, 'max_depth': 3, 'learning_rate': 0.12148891513985906}. Best is trial 1 with value: 0.6662102953990962.\u001b[0m\n",
            "\u001b[32m[I 2023-03-17 08:33:44,458]\u001b[0m Trial 6 finished with value: 0.6607026084313351 and parameters: {'n_estimators': 199, 'max_depth': 4, 'learning_rate': 0.06506700222234493}. Best is trial 1 with value: 0.6662102953990962.\u001b[0m\n",
            "\u001b[32m[I 2023-03-17 08:34:39,174]\u001b[0m Trial 7 finished with value: 0.6686755304570715 and parameters: {'n_estimators': 122, 'max_depth': 7, 'learning_rate': 0.14210182345637462}. Best is trial 7 with value: 0.6686755304570715.\u001b[0m\n",
            "\u001b[32m[I 2023-03-17 08:34:49,159]\u001b[0m Trial 8 finished with value: 0.6355295989663577 and parameters: {'n_estimators': 51, 'max_depth': 3, 'learning_rate': 0.1456369248043176}. Best is trial 7 with value: 0.6686755304570715.\u001b[0m\n",
            "\u001b[32m[I 2023-03-17 08:35:04,956]\u001b[0m Trial 9 finished with value: 0.6132803480436185 and parameters: {'n_estimators': 70, 'max_depth': 4, 'learning_rate': 0.03411787362154339}. Best is trial 7 with value: 0.6686755304570715.\u001b[0m\n",
            "\u001b[32m[I 2023-03-17 08:36:16,905]\u001b[0m Trial 10 finished with value: 0.6725992766937984 and parameters: {'n_estimators': 159, 'max_depth': 9, 'learning_rate': 0.220539638142558}. Best is trial 10 with value: 0.6725992766937984.\u001b[0m\n",
            "\u001b[32m[I 2023-03-17 08:37:25,585]\u001b[0m Trial 11 finished with value: 0.6689385450228507 and parameters: {'n_estimators': 158, 'max_depth': 9, 'learning_rate': 0.2161854785221634}. Best is trial 10 with value: 0.6725992766937984.\u001b[0m\n",
            "\u001b[32m[I 2023-03-17 08:38:35,531]\u001b[0m Trial 12 finished with value: 0.6701247822379655 and parameters: {'n_estimators': 161, 'max_depth': 9, 'learning_rate': 0.23542782158302636}. Best is trial 10 with value: 0.6725992766937984.\u001b[0m\n",
            "\u001b[32m[I 2023-03-17 08:39:38,321]\u001b[0m Trial 13 finished with value: 0.6716073230951812 and parameters: {'n_estimators': 160, 'max_depth': 9, 'learning_rate': 0.2922489039405396}. Best is trial 10 with value: 0.6725992766937984.\u001b[0m\n",
            "\u001b[32m[I 2023-03-17 08:40:52,099]\u001b[0m Trial 14 finished with value: 0.6726257898009541 and parameters: {'n_estimators': 195, 'max_depth': 8, 'learning_rate': 0.28699919618283054}. Best is trial 14 with value: 0.6726257898009541.\u001b[0m\n",
            "\u001b[32m[I 2023-03-17 08:42:06,348]\u001b[0m Trial 15 finished with value: 0.6729962168853664 and parameters: {'n_estimators': 200, 'max_depth': 8, 'learning_rate': 0.2784576578198968}. Best is trial 15 with value: 0.6729962168853664.\u001b[0m\n",
            "\u001b[32m[I 2023-03-17 08:43:15,179]\u001b[0m Trial 16 finished with value: 0.6784455787655094 and parameters: {'n_estimators': 198, 'max_depth': 8, 'learning_rate': 0.29506708644646407}. Best is trial 16 with value: 0.6784455787655094.\u001b[0m\n",
            "\u001b[32m[I 2023-03-17 08:44:25,109]\u001b[0m Trial 17 finished with value: 0.674595987912744 and parameters: {'n_estimators': 179, 'max_depth': 7, 'learning_rate': 0.2633739927189699}. Best is trial 16 with value: 0.6784455787655094.\u001b[0m\n",
            "\u001b[32m[I 2023-03-17 08:45:37,242]\u001b[0m Trial 18 finished with value: 0.6678236842991813 and parameters: {'n_estimators': 175, 'max_depth': 7, 'learning_rate': 0.18999661594336587}. Best is trial 16 with value: 0.6784455787655094.\u001b[0m\n",
            "\u001b[32m[I 2023-03-17 08:46:42,692]\u001b[0m Trial 19 finished with value: 0.6720306990295871 and parameters: {'n_estimators': 179, 'max_depth': 7, 'learning_rate': 0.26272314447529893}. Best is trial 16 with value: 0.6784455787655094.\u001b[0m\n",
            "\u001b[32m[I 2023-03-17 08:47:21,388]\u001b[0m A new study created in memory with name: no-name-b1b4f7f5-0e54-4ace-be38-143d692ad2c6\u001b[0m\n",
            "\u001b[32m[I 2023-03-17 08:47:42,532]\u001b[0m Trial 0 finished with value: 0.6698098650991606 and parameters: {'n_estimators': 68, 'max_depth': 5, 'learning_rate': 0.20159885182181075}. Best is trial 0 with value: 0.6698098650991606.\u001b[0m\n",
            "\u001b[32m[I 2023-03-17 08:48:16,651]\u001b[0m Trial 1 finished with value: 0.6697024470655794 and parameters: {'n_estimators': 65, 'max_depth': 8, 'learning_rate': 0.24188783773654882}. Best is trial 0 with value: 0.6698098650991606.\u001b[0m\n",
            "\u001b[32m[I 2023-03-17 08:48:31,940]\u001b[0m Trial 2 finished with value: 0.6570030399177595 and parameters: {'n_estimators': 63, 'max_depth': 4, 'learning_rate': 0.13489668026703563}. Best is trial 0 with value: 0.6698098650991606.\u001b[0m\n",
            "\u001b[32m[I 2023-03-17 08:49:04,713]\u001b[0m Trial 3 finished with value: 0.6804142929598004 and parameters: {'n_estimators': 93, 'max_depth': 6, 'learning_rate': 0.24421428675215726}. Best is trial 3 with value: 0.6804142929598004.\u001b[0m\n",
            "\u001b[32m[I 2023-03-17 08:49:19,602]\u001b[0m Trial 4 finished with value: 0.6582997092435501 and parameters: {'n_estimators': 76, 'max_depth': 3, 'learning_rate': 0.1907481203491147}. Best is trial 3 with value: 0.6804142929598004.\u001b[0m\n",
            "\u001b[32m[I 2023-03-17 08:50:18,179]\u001b[0m Trial 5 finished with value: 0.6587108999283368 and parameters: {'n_estimators': 97, 'max_depth': 9, 'learning_rate': 0.054850547336174144}. Best is trial 3 with value: 0.6804142929598004.\u001b[0m\n",
            "\u001b[32m[I 2023-03-17 08:50:59,353]\u001b[0m Trial 6 finished with value: 0.6762707465981831 and parameters: {'n_estimators': 91, 'max_depth': 8, 'learning_rate': 0.28215233908075865}. Best is trial 3 with value: 0.6804142929598004.\u001b[0m\n",
            "\u001b[32m[I 2023-03-17 08:51:40,391]\u001b[0m Trial 7 finished with value: 0.6775795154132552 and parameters: {'n_estimators': 88, 'max_depth': 8, 'learning_rate': 0.2577228306696367}. Best is trial 3 with value: 0.6804142929598004.\u001b[0m\n",
            "\u001b[32m[I 2023-03-17 08:52:36,964]\u001b[0m Trial 8 finished with value: 0.6721832359528825 and parameters: {'n_estimators': 142, 'max_depth': 6, 'learning_rate': 0.07973277697412758}. Best is trial 3 with value: 0.6804142929598004.\u001b[0m\n",
            "\u001b[32m[I 2023-03-17 08:53:29,860]\u001b[0m Trial 9 finished with value: 0.6771279280386456 and parameters: {'n_estimators': 108, 'max_depth': 9, 'learning_rate': 0.22984439510561208}. Best is trial 3 with value: 0.6804142929598004.\u001b[0m\n",
            "\u001b[32m[I 2023-03-17 08:54:31,946]\u001b[0m Trial 10 finished with value: 0.6792837992837947 and parameters: {'n_estimators': 193, 'max_depth': 6, 'learning_rate': 0.2909201761374847}. Best is trial 3 with value: 0.6804142929598004.\u001b[0m\n",
            "\u001b[32m[I 2023-03-17 08:55:35,038]\u001b[0m Trial 11 finished with value: 0.6805925229462773 and parameters: {'n_estimators': 195, 'max_depth': 6, 'learning_rate': 0.28119129284826266}. Best is trial 11 with value: 0.6805925229462773.\u001b[0m\n",
            "\u001b[32m[I 2023-03-17 08:56:16,797]\u001b[0m Trial 12 finished with value: 0.6755830899995505 and parameters: {'n_estimators': 143, 'max_depth': 5, 'learning_rate': 0.2877164714102071}. Best is trial 11 with value: 0.6805925229462773.\u001b[0m\n",
            "\u001b[32m[I 2023-03-17 08:57:28,903]\u001b[0m Trial 13 finished with value: 0.6792125240188797 and parameters: {'n_estimators': 200, 'max_depth': 7, 'learning_rate': 0.21783871199939325}. Best is trial 11 with value: 0.6805925229462773.\u001b[0m\n",
            "\u001b[32m[I 2023-03-17 08:58:20,905]\u001b[0m Trial 14 finished with value: 0.6767579110641865 and parameters: {'n_estimators': 169, 'max_depth': 5, 'learning_rate': 0.1657122450348491}. Best is trial 11 with value: 0.6805925229462773.\u001b[0m\n",
            "\u001b[32m[I 2023-03-17 08:59:08,733]\u001b[0m Trial 15 finished with value: 0.6761379711596961 and parameters: {'n_estimators': 126, 'max_depth': 7, 'learning_rate': 0.2592431498750934}. Best is trial 11 with value: 0.6805925229462773.\u001b[0m\n",
            "\u001b[32m[I 2023-03-17 09:00:13,425]\u001b[0m Trial 16 finished with value: 0.6774001123924872 and parameters: {'n_estimators': 172, 'max_depth': 7, 'learning_rate': 0.2998446041997647}. Best is trial 11 with value: 0.6805925229462773.\u001b[0m\n",
            "\u001b[32m[I 2023-03-17 09:00:41,508]\u001b[0m Trial 17 finished with value: 0.6709870779852213 and parameters: {'n_estimators': 118, 'max_depth': 4, 'learning_rate': 0.24632551664957458}. Best is trial 11 with value: 0.6805925229462773.\u001b[0m\n",
            "\u001b[32m[I 2023-03-17 09:01:00,918]\u001b[0m Trial 18 finished with value: 0.6691373751049573 and parameters: {'n_estimators': 51, 'max_depth': 6, 'learning_rate': 0.21134339861364662}. Best is trial 11 with value: 0.6805925229462773.\u001b[0m\n",
            "\u001b[32m[I 2023-03-17 09:01:58,750]\u001b[0m Trial 19 finished with value: 0.6771562789816139 and parameters: {'n_estimators': 164, 'max_depth': 6, 'learning_rate': 0.2621092923634658}. Best is trial 11 with value: 0.6805925229462773.\u001b[0m\n",
            "\u001b[32m[I 2023-03-17 09:02:32,166]\u001b[0m A new study created in memory with name: no-name-568933c9-ca55-411c-a893-bf0931a88c42\u001b[0m\n",
            "\u001b[32m[I 2023-03-17 09:03:16,454]\u001b[0m Trial 0 finished with value: 0.672568485899823 and parameters: {'n_estimators': 187, 'max_depth': 4, 'learning_rate': 0.2496804685422381}. Best is trial 0 with value: 0.672568485899823.\u001b[0m\n",
            "\u001b[32m[I 2023-03-17 09:03:26,847]\u001b[0m Trial 1 finished with value: 0.6610621185585118 and parameters: {'n_estimators': 52, 'max_depth': 4, 'learning_rate': 0.25749696512166104}. Best is trial 0 with value: 0.672568485899823.\u001b[0m\n",
            "\u001b[32m[I 2023-03-17 09:03:57,937]\u001b[0m Trial 2 finished with value: 0.6629559920401006 and parameters: {'n_estimators': 92, 'max_depth': 5, 'learning_rate': 0.11085697888732046}. Best is trial 0 with value: 0.672568485899823.\u001b[0m\n",
            "\u001b[32m[I 2023-03-17 09:04:26,211]\u001b[0m Trial 3 finished with value: 0.6283528032323332 and parameters: {'n_estimators': 56, 'max_depth': 8, 'learning_rate': 0.024983575530457533}. Best is trial 0 with value: 0.672568485899823.\u001b[0m\n",
            "\u001b[32m[I 2023-03-17 09:05:10,371]\u001b[0m Trial 4 finished with value: 0.6660741623231282 and parameters: {'n_estimators': 79, 'max_depth': 9, 'learning_rate': 0.1999866446219578}. Best is trial 0 with value: 0.672568485899823.\u001b[0m\n",
            "\u001b[32m[I 2023-03-17 09:06:59,107]\u001b[0m Trial 5 finished with value: 0.6424285911114896 and parameters: {'n_estimators': 178, 'max_depth': 9, 'learning_rate': 0.014847667395737656}. Best is trial 0 with value: 0.672568485899823.\u001b[0m\n",
            "\u001b[32m[I 2023-03-17 09:08:00,565]\u001b[0m Trial 6 finished with value: 0.6789466428938843 and parameters: {'n_estimators': 175, 'max_depth': 6, 'learning_rate': 0.1966788140403409}. Best is trial 6 with value: 0.6789466428938843.\u001b[0m\n",
            "\u001b[32m[I 2023-03-17 09:08:30,361]\u001b[0m Trial 7 finished with value: 0.6711402989727461 and parameters: {'n_estimators': 92, 'max_depth': 5, 'learning_rate': 0.2836979052440989}. Best is trial 6 with value: 0.6789466428938843.\u001b[0m\n",
            "\u001b[32m[I 2023-03-17 09:09:22,591]\u001b[0m Trial 8 finished with value: 0.6727994168616416 and parameters: {'n_estimators': 124, 'max_depth': 9, 'learning_rate': 0.28011847097703074}. Best is trial 6 with value: 0.6789466428938843.\u001b[0m\n",
            "\u001b[32m[I 2023-03-17 09:09:39,425]\u001b[0m Trial 9 finished with value: 0.6574751070816808 and parameters: {'n_estimators': 86, 'max_depth': 3, 'learning_rate': 0.15380757528693167}. Best is trial 6 with value: 0.6789466428938843.\u001b[0m\n",
            "\u001b[32m[I 2023-03-17 09:10:40,814]\u001b[0m Trial 10 finished with value: 0.6731534711800222 and parameters: {'n_estimators': 156, 'max_depth': 7, 'learning_rate': 0.21723070425493368}. Best is trial 6 with value: 0.6789466428938843.\u001b[0m\n",
            "\u001b[32m[I 2023-03-17 09:11:48,025]\u001b[0m Trial 11 finished with value: 0.6799068712903317 and parameters: {'n_estimators': 158, 'max_depth': 7, 'learning_rate': 0.20794793603878406}. Best is trial 11 with value: 0.6799068712903317.\u001b[0m\n",
            "\u001b[32m[I 2023-03-17 09:12:49,823]\u001b[0m Trial 12 finished with value: 0.6783284298359019 and parameters: {'n_estimators': 152, 'max_depth': 7, 'learning_rate': 0.18926864893239345}. Best is trial 11 with value: 0.6799068712903317.\u001b[0m\n",
            "\u001b[32m[I 2023-03-17 09:13:47,514]\u001b[0m Trial 13 finished with value: 0.6709411736065704 and parameters: {'n_estimators': 154, 'max_depth': 6, 'learning_rate': 0.15460048454619496}. Best is trial 11 with value: 0.6799068712903317.\u001b[0m\n",
            "\u001b[32m[I 2023-03-17 09:15:02,541]\u001b[0m Trial 14 finished with value: 0.6753908912850702 and parameters: {'n_estimators': 196, 'max_depth': 7, 'learning_rate': 0.22838284564203973}. Best is trial 11 with value: 0.6799068712903317.\u001b[0m\n",
            "\u001b[32m[I 2023-03-17 09:16:03,291]\u001b[0m Trial 15 finished with value: 0.673971856938251 and parameters: {'n_estimators': 169, 'max_depth': 6, 'learning_rate': 0.18066848701556473}. Best is trial 11 with value: 0.6799068712903317.\u001b[0m\n",
            "\u001b[32m[I 2023-03-17 09:16:58,492]\u001b[0m Trial 16 finished with value: 0.6766143057621123 and parameters: {'n_estimators': 127, 'max_depth': 8, 'learning_rate': 0.23945926381053267}. Best is trial 11 with value: 0.6799068712903317.\u001b[0m\n",
            "\u001b[32m[I 2023-03-17 09:17:31,950]\u001b[0m Trial 17 finished with value: 0.6713434218933071 and parameters: {'n_estimators': 121, 'max_depth': 5, 'learning_rate': 0.2946589566926432}. Best is trial 11 with value: 0.6799068712903317.\u001b[0m\n",
            "\u001b[32m[I 2023-03-17 09:18:43,139]\u001b[0m Trial 18 finished with value: 0.6740744556788777 and parameters: {'n_estimators': 142, 'max_depth': 8, 'learning_rate': 0.12893199007736295}. Best is trial 11 with value: 0.6799068712903317.\u001b[0m\n",
            "\u001b[32m[I 2023-03-17 09:19:44,110]\u001b[0m Trial 19 finished with value: 0.6744354173435915 and parameters: {'n_estimators': 171, 'max_depth': 6, 'learning_rate': 0.20822418620591154}. Best is trial 11 with value: 0.6799068712903317.\u001b[0m\n",
            "\u001b[32m[I 2023-03-17 09:20:18,774]\u001b[0m A new study created in memory with name: no-name-16928dc2-a37b-4eb2-be12-55777f850a34\u001b[0m\n",
            "\u001b[32m[I 2023-03-17 09:21:32,867]\u001b[0m Trial 0 finished with value: 0.6850454824618412 and parameters: {'n_estimators': 192, 'max_depth': 7, 'learning_rate': 0.222110650302772}. Best is trial 0 with value: 0.6850454824618412.\u001b[0m\n",
            "\u001b[32m[I 2023-03-17 09:21:59,063]\u001b[0m Trial 1 finished with value: 0.6426159403954155 and parameters: {'n_estimators': 155, 'max_depth': 3, 'learning_rate': 0.04358861480596749}. Best is trial 0 with value: 0.6850454824618412.\u001b[0m\n",
            "\u001b[32m[I 2023-03-17 09:22:40,416]\u001b[0m Trial 2 finished with value: 0.6745180898343976 and parameters: {'n_estimators': 105, 'max_depth': 6, 'learning_rate': 0.27931192425209006}. Best is trial 0 with value: 0.6850454824618412.\u001b[0m\n",
            "\u001b[32m[I 2023-03-17 09:23:10,559]\u001b[0m Trial 3 finished with value: 0.6774629905049391 and parameters: {'n_estimators': 80, 'max_depth': 6, 'learning_rate': 0.25878247906611274}. Best is trial 0 with value: 0.6850454824618412.\u001b[0m\n",
            "\u001b[32m[I 2023-03-17 09:23:38,078]\u001b[0m Trial 4 finished with value: 0.6603293085339467 and parameters: {'n_estimators': 99, 'max_depth': 4, 'learning_rate': 0.09944872636388224}. Best is trial 0 with value: 0.6850454824618412.\u001b[0m\n",
            "\u001b[32m[I 2023-03-17 09:24:33,512]\u001b[0m Trial 5 finished with value: 0.6837202637600402 and parameters: {'n_estimators': 145, 'max_depth': 7, 'learning_rate': 0.2846361697191246}. Best is trial 0 with value: 0.6850454824618412.\u001b[0m\n",
            "\u001b[32m[I 2023-03-17 09:25:00,081]\u001b[0m Trial 6 finished with value: 0.6749135085973897 and parameters: {'n_estimators': 90, 'max_depth': 5, 'learning_rate': 0.26877647834334584}. Best is trial 0 with value: 0.6850454824618412.\u001b[0m\n",
            "\u001b[32m[I 2023-03-17 09:25:21,959]\u001b[0m Trial 7 finished with value: 0.6737767492278345 and parameters: {'n_estimators': 89, 'max_depth': 4, 'learning_rate': 0.21703080757674958}. Best is trial 0 with value: 0.6850454824618412.\u001b[0m\n",
            "\u001b[32m[I 2023-03-17 09:26:16,208]\u001b[0m Trial 8 finished with value: 0.6285620668639811 and parameters: {'n_estimators': 137, 'max_depth': 6, 'learning_rate': 0.012006098217914977}. Best is trial 0 with value: 0.6850454824618412.\u001b[0m\n",
            "\u001b[32m[I 2023-03-17 09:26:43,862]\u001b[0m Trial 9 finished with value: 0.6716947258567475 and parameters: {'n_estimators': 121, 'max_depth': 4, 'learning_rate': 0.21028695878397824}. Best is trial 0 with value: 0.6850454824618412.\u001b[0m\n",
            "\u001b[32m[I 2023-03-17 09:28:13,416]\u001b[0m Trial 10 finished with value: 0.6804313292593531 and parameters: {'n_estimators': 199, 'max_depth': 9, 'learning_rate': 0.1623236689898681}. Best is trial 0 with value: 0.6850454824618412.\u001b[0m\n",
            "\u001b[32m[I 2023-03-17 09:29:21,620]\u001b[0m Trial 11 finished with value: 0.6814360160461709 and parameters: {'n_estimators': 188, 'max_depth': 8, 'learning_rate': 0.29998065562346254}. Best is trial 0 with value: 0.6850454824618412.\u001b[0m\n",
            "\u001b[32m[I 2023-03-17 09:29:50,056]\u001b[0m Trial 12 finished with value: 0.6663002432112712 and parameters: {'n_estimators': 51, 'max_depth': 8, 'learning_rate': 0.22487734743005205}. Best is trial 0 with value: 0.6850454824618412.\u001b[0m\n",
            "\u001b[32m[I 2023-03-17 09:30:56,948]\u001b[0m Trial 13 finished with value: 0.683824361822572 and parameters: {'n_estimators': 166, 'max_depth': 7, 'learning_rate': 0.18377531821882434}. Best is trial 0 with value: 0.6850454824618412.\u001b[0m\n",
            "\u001b[32m[I 2023-03-17 09:32:09,609]\u001b[0m Trial 14 finished with value: 0.6804679219561806 and parameters: {'n_estimators': 172, 'max_depth': 7, 'learning_rate': 0.16709260930988948}. Best is trial 0 with value: 0.6850454824618412.\u001b[0m\n",
            "\u001b[32m[I 2023-03-17 09:33:21,492]\u001b[0m Trial 15 finished with value: 0.6789586627903036 and parameters: {'n_estimators': 168, 'max_depth': 7, 'learning_rate': 0.12973366590117152}. Best is trial 0 with value: 0.6850454824618412.\u001b[0m\n",
            "\u001b[32m[I 2023-03-17 09:34:36,768]\u001b[0m Trial 16 finished with value: 0.6860766372770132 and parameters: {'n_estimators': 179, 'max_depth': 9, 'learning_rate': 0.18943004620338874}. Best is trial 16 with value: 0.6860766372770132.\u001b[0m\n",
            "\u001b[32m[I 2023-03-17 09:35:52,351]\u001b[0m Trial 17 finished with value: 0.6817386007666656 and parameters: {'n_estimators': 186, 'max_depth': 9, 'learning_rate': 0.24274822661627637}. Best is trial 16 with value: 0.6860766372770132.\u001b[0m\n",
            "\u001b[32m[I 2023-03-17 09:37:12,174]\u001b[0m Trial 18 finished with value: 0.6822426771626797 and parameters: {'n_estimators': 200, 'max_depth': 8, 'learning_rate': 0.19005071259445738}. Best is trial 16 with value: 0.6860766372770132.\u001b[0m\n",
            "\u001b[32m[I 2023-03-17 09:38:26,821]\u001b[0m Trial 19 finished with value: 0.684298806172992 and parameters: {'n_estimators': 183, 'max_depth': 9, 'learning_rate': 0.24036115436221572}. Best is trial 16 with value: 0.6860766372770132.\u001b[0m\n",
            "\u001b[32m[I 2023-03-17 09:39:10,079]\u001b[0m A new study created in memory with name: no-name-58de9070-55df-4afa-ad8a-5f98742e495f\u001b[0m\n",
            "\u001b[32m[I 2023-03-17 09:40:11,548]\u001b[0m Trial 0 finished with value: 0.676973236285379 and parameters: {'n_estimators': 172, 'max_depth': 6, 'learning_rate': 0.17666146022373266}. Best is trial 0 with value: 0.676973236285379.\u001b[0m\n",
            "\u001b[32m[I 2023-03-17 09:40:53,253]\u001b[0m Trial 1 finished with value: 0.678808828140291 and parameters: {'n_estimators': 94, 'max_depth': 8, 'learning_rate': 0.2695888550994069}. Best is trial 1 with value: 0.678808828140291.\u001b[0m\n",
            "\u001b[32m[I 2023-03-17 09:41:58,302]\u001b[0m Trial 2 finished with value: 0.6749129435044156 and parameters: {'n_estimators': 119, 'max_depth': 9, 'learning_rate': 0.10164501402565278}. Best is trial 1 with value: 0.678808828140291.\u001b[0m\n",
            "\u001b[32m[I 2023-03-17 09:42:28,906]\u001b[0m Trial 3 finished with value: 0.6721630329684832 and parameters: {'n_estimators': 119, 'max_depth': 4, 'learning_rate': 0.21689756272777533}. Best is trial 1 with value: 0.678808828140291.\u001b[0m\n",
            "\u001b[32m[I 2023-03-17 09:42:46,814]\u001b[0m Trial 4 finished with value: 0.6701469576703927 and parameters: {'n_estimators': 103, 'max_depth': 3, 'learning_rate': 0.20295294558454258}. Best is trial 1 with value: 0.678808828140291.\u001b[0m\n",
            "\u001b[32m[I 2023-03-17 09:43:19,234]\u001b[0m Trial 5 finished with value: 0.6198152049572713 and parameters: {'n_estimators': 89, 'max_depth': 6, 'learning_rate': 0.015486527075139537}. Best is trial 1 with value: 0.678808828140291.\u001b[0m\n",
            "\u001b[32m[I 2023-03-17 09:43:33,918]\u001b[0m Trial 6 finished with value: 0.5973341565694836 and parameters: {'n_estimators': 71, 'max_depth': 3, 'learning_rate': 0.03444284305959479}. Best is trial 1 with value: 0.678808828140291.\u001b[0m\n",
            "\u001b[32m[I 2023-03-17 09:44:11,412]\u001b[0m Trial 7 finished with value: 0.6754027066367453 and parameters: {'n_estimators': 74, 'max_depth': 9, 'learning_rate': 0.2950001788943716}. Best is trial 1 with value: 0.678808828140291.\u001b[0m\n",
            "\u001b[32m[I 2023-03-17 09:44:41,843]\u001b[0m Trial 8 finished with value: 0.6744213472775477 and parameters: {'n_estimators': 94, 'max_depth': 5, 'learning_rate': 0.16703281820516758}. Best is trial 1 with value: 0.678808828140291.\u001b[0m\n",
            "\u001b[32m[I 2023-03-17 09:45:07,662]\u001b[0m Trial 9 finished with value: 0.6702038564318822 and parameters: {'n_estimators': 69, 'max_depth': 6, 'learning_rate': 0.15353068505321618}. Best is trial 1 with value: 0.678808828140291.\u001b[0m\n",
            "\u001b[32m[I 2023-03-17 09:46:08,647]\u001b[0m Trial 10 finished with value: 0.6839079289078064 and parameters: {'n_estimators': 159, 'max_depth': 8, 'learning_rate': 0.29409816014196694}. Best is trial 10 with value: 0.6839079289078064.\u001b[0m\n",
            "\u001b[32m[I 2023-03-17 09:47:10,203]\u001b[0m Trial 11 finished with value: 0.6806134084368528 and parameters: {'n_estimators': 161, 'max_depth': 8, 'learning_rate': 0.2970456878603009}. Best is trial 10 with value: 0.6839079289078064.\u001b[0m\n",
            "\u001b[32m[I 2023-03-17 09:48:12,109]\u001b[0m Trial 12 finished with value: 0.6800743463289597 and parameters: {'n_estimators': 165, 'max_depth': 8, 'learning_rate': 0.2987546333298219}. Best is trial 10 with value: 0.6839079289078064.\u001b[0m\n",
            "\u001b[32m[I 2023-03-17 09:49:27,493]\u001b[0m Trial 13 finished with value: 0.6822978007298214 and parameters: {'n_estimators': 199, 'max_depth': 8, 'learning_rate': 0.25179155965404487}. Best is trial 10 with value: 0.6839079289078064.\u001b[0m\n",
            "\u001b[32m[I 2023-03-17 09:50:37,351]\u001b[0m Trial 14 finished with value: 0.6813677513763722 and parameters: {'n_estimators': 199, 'max_depth': 7, 'learning_rate': 0.2471533935947349}. Best is trial 10 with value: 0.6839079289078064.\u001b[0m\n",
            "\u001b[32m[I 2023-03-17 09:51:52,419]\u001b[0m Trial 15 finished with value: 0.682251659469936 and parameters: {'n_estimators': 200, 'max_depth': 7, 'learning_rate': 0.23757994790170806}. Best is trial 10 with value: 0.6839079289078064.\u001b[0m\n",
            "\u001b[32m[I 2023-03-17 09:52:48,294]\u001b[0m Trial 16 finished with value: 0.6827009352704384 and parameters: {'n_estimators': 143, 'max_depth': 7, 'learning_rate': 0.2595599850857469}. Best is trial 10 with value: 0.6839079289078064.\u001b[0m\n",
            "\u001b[32m[I 2023-03-17 09:53:44,642]\u001b[0m Trial 17 finished with value: 0.6808528808444883 and parameters: {'n_estimators': 145, 'max_depth': 7, 'learning_rate': 0.2713718779125153}. Best is trial 10 with value: 0.6839079289078064.\u001b[0m\n",
            "\u001b[32m[I 2023-03-17 09:54:26,873]\u001b[0m Trial 18 finished with value: 0.6761661842824752 and parameters: {'n_estimators': 142, 'max_depth': 5, 'learning_rate': 0.21953741656706105}. Best is trial 10 with value: 0.6839079289078064.\u001b[0m\n",
            "\u001b[32m[I 2023-03-17 09:55:24,601]\u001b[0m Trial 19 finished with value: 0.6791886337344458 and parameters: {'n_estimators': 138, 'max_depth': 9, 'learning_rate': 0.26347152516316147}. Best is trial 10 with value: 0.6839079289078064.\u001b[0m\n"
          ]
        }
      ],
      "source": [
        "import optuna\n",
        "from optuna.samplers import TPESampler\n",
        "from sklearn.metrics import f1_score, accuracy_score, precision_score, recall_score\n",
        "from sklearn.metrics import make_scorer\n",
        "from sklearn.model_selection import GridSearchCV, KFold, cross_validate, cross_val_score\n",
        "\n",
        "# Define the models to be compared\n",
        "models = {\n",
        "    'XGBoost': XGBClassifier(),\n",
        "}\n",
        "\n",
        "\n",
        "# Define the evaluation metrics to be used for performance comparison\n",
        "metrics = {\n",
        "    'Accuracy': accuracy_score,\n",
        "    'Precision': precision_score,\n",
        "    'Recall': recall_score,\n",
        "    'F1 score': f1_score,\n",
        "}\n",
        "\n",
        "# Define the number of folds for the outer and inner cross-validation loops\n",
        "outer_cv = KFold(n_splits=5, shuffle=True, random_state=42)\n",
        "inner_cv = KFold(n_splits=3, shuffle=True, random_state=42)\n",
        "\n",
        "# Define the objective function for the optimization\n",
        "def objective(trial, model, X_train, y_train, inner_cv):\n",
        "    if model == 'XGBoost':\n",
        "        n_estimators = trial.suggest_int('n_estimators', 50, 200)\n",
        "        max_depth = trial.suggest_int('max_depth', 3, 9)\n",
        "        learning_rate = trial.suggest_float('learning_rate', 0.01, 0.3)\n",
        "        \n",
        "        clf = XGBClassifier(n_estimators=n_estimators, max_depth=max_depth, learning_rate=learning_rate)\n",
        "        \n",
        "    score = cross_val_score(clf, X_train, y_train, cv=inner_cv, scoring='f1_weighted').mean()\n",
        "    return score\n",
        "\n",
        "def nested_cv(X, y, models, outer_cv, inner_cv, metrics):\n",
        "    results = {}\n",
        "    best_params = {}\n",
        "    fitted_models = {}\n",
        "    for model_name in models.keys():\n",
        "        outer_results = []\n",
        "        \n",
        "        # outer cv loop\n",
        "        for train_idx, test_idx in outer_cv.split(X, y):\n",
        "            X_train, y_train = X[train_idx], y[train_idx]\n",
        "            X_test, y_test = X[test_idx], y[test_idx]\n",
        "            \n",
        "            # Inner cv for hyperparameter tuning using Optuna\n",
        "            sampler = TPESampler()\n",
        "            study = optuna.create_study(direction='maximize', sampler=sampler)\n",
        "            study.optimize(lambda trial: objective(trial, model_name, X_train, y_train, inner_cv), n_trials=20)\n",
        "            \n",
        "            # use the best parameters to fit the model directly on the fold's test set\n",
        "            best_params[model_name] = study.best_params\n",
        "            model = models[model_name]\n",
        "            model.set_params(**study.best_params)\n",
        "            fitted_models[model_name] = model.fit(X_train, y_train) # only keep the last fold\n",
        "            \n",
        "            # evaluate the model on the test set and compute the evaluation metrics\n",
        "            y_pred = model.predict(X_test)\n",
        "            model_results = {}\n",
        "            for name, metric in metrics.items():\n",
        "              if name=='F1 score' or name=='Precision' or name=='Recall':\n",
        "                metric_value = metric(y_test, y_pred, average='weighted')\n",
        "              else: \n",
        "                metric_value = metric(y_test, y_pred)\n",
        "              model_results[name] = metric_value\n",
        "            outer_results.append(model_results)\n",
        "        results[model_name] = outer_results\n",
        "    return results, best_params, fitted_models\n",
        "\n",
        "results, best_params, fitted_models = nested_cv(X_train.to_numpy(), y_train.to_numpy(), models, outer_cv, inner_cv, metrics)"
      ]
    },
    {
      "cell_type": "code",
      "execution_count": null,
      "metadata": {
        "colab": {
          "base_uri": "https://localhost:8080/"
        },
        "id": "Sy8gKqRGfEFb",
        "outputId": "c769ede9-0201-4323-f2ba-28d3342f0820"
      },
      "outputs": [
        {
          "data": {
            "text/plain": [
              "{'XGBoost': {'n_estimators': 159,\n",
              "  'max_depth': 8,\n",
              "  'learning_rate': 0.29409816014196694}}"
            ]
          },
          "execution_count": 16,
          "metadata": {},
          "output_type": "execute_result"
        }
      ],
      "source": [
        "best_params"
      ]
    },
    {
      "cell_type": "code",
      "execution_count": null,
      "metadata": {
        "colab": {
          "base_uri": "https://localhost:8080/"
        },
        "id": "KMPTJ4I6rVQ_",
        "outputId": "84decb6c-7642-46e6-e164-87d6c35234ac"
      },
      "outputs": [
        {
          "data": {
            "text/plain": [
              "{'XGBoost': [{'Accuracy': 0.7010078387458006,\n",
              "   'Precision': 0.7005682684861384,\n",
              "   'Recall': 0.7010078387458006,\n",
              "   'F1 score': 0.7004054464155465},\n",
              "  {'Accuracy': 0.6858902575587906,\n",
              "   'Precision': 0.6906438502401208,\n",
              "   'Recall': 0.6858902575587906,\n",
              "   'F1 score': 0.6876128619952879},\n",
              "  {'Accuracy': 0.7038073908174692,\n",
              "   'Precision': 0.7067885872857833,\n",
              "   'Recall': 0.7038073908174692,\n",
              "   'F1 score': 0.7048363006568085},\n",
              "  {'Accuracy': 0.6756302521008404,\n",
              "   'Precision': 0.6780048813813386,\n",
              "   'Recall': 0.6756302521008404,\n",
              "   'F1 score': 0.6764610136984917},\n",
              "  {'Accuracy': 0.6901960784313725,\n",
              "   'Precision': 0.6907781911481634,\n",
              "   'Recall': 0.6901960784313725,\n",
              "   'F1 score': 0.6891900241057722}]}"
            ]
          },
          "execution_count": 17,
          "metadata": {},
          "output_type": "execute_result"
        }
      ],
      "source": [
        "results"
      ]
    },
    {
      "cell_type": "code",
      "execution_count": null,
      "metadata": {
        "colab": {
          "base_uri": "https://localhost:8080/",
          "height": 365
        },
        "id": "nKtlc7df4MXy",
        "outputId": "841381e5-ae88-479c-c0ec-c74e17e2a11d"
      },
      "outputs": [
        {
          "data": {
            "image/png": "[encoded data removed]",
            "text/plain": [
              "<Figure size 720x360 with 1 Axes>"
            ]
          },
          "metadata": {},
          "output_type": "display_data"
        }
      ],
      "source": [
        "import seaborn as sns\n",
        "\n",
        "def plot_metrics_single_plot(model_name, model_data):\n",
        "    \"\"\"\n",
        "    Plots a boxplot that compares the metrics side-by-side for the given model.\n",
        "\n",
        "    Parameters\n",
        "    ----------\n",
        "    model_name : str\n",
        "        The name of the model (e.g., \"xgboost\").\n",
        "    model_data : list\n",
        "        A list of dictionaries, where each dictionary contains a metric name and its values as a numpy array.\n",
        "    \"\"\"\n",
        "    output_dict = {model_name: {}}\n",
        "    \n",
        "    for metric_dict in model_data:\n",
        "        for metric_name, metric_value in metric_dict.items():\n",
        "            if metric_name not in output_dict[model_name]:\n",
        "                output_dict[model_name][metric_name] = []\n",
        "            output_dict[model_name][metric_name].append(metric_value)\n",
        "\n",
        "    metrics = list(output_dict[model_name].keys())\n",
        "\n",
        "    # create the boxplot\n",
        "    fig, ax = plt.subplots(figsize=(10, 5))\n",
        "    values = [output_dict[model_name][metric] for metric in metrics]\n",
        "    # sns.violinplot(data=values, inner=\"points\", palette=\"Set1\", bw=.2, ax=ax)\n",
        "    sns.boxplot(data=values, palette=\"Set1\", ax=ax)\n",
        "    ax.set_xticklabels(metrics)\n",
        "    ax.set_title(f\"{model_name} Metrics\")\n",
        "    ax.set_ylabel(\"Value\")\n",
        "    ax.tick_params(axis='x', labelrotation=45)\n",
        "    plt.show()\n",
        "\n",
        "    return output_dict\n",
        "\n",
        "model_name = 'XGBoost'\n",
        "model_data = results[model_name]\n",
        "\n",
        "d = plot_metrics_single_plot(model_name, model_data)\n"
      ]
    },
    {
      "cell_type": "markdown",
      "source": [
        "# Evaluate Model"
      ],
      "metadata": {
        "id": "1pUz1ZSRVZXi"
      }
    },
    {
      "cell_type": "code",
      "source": [
        "labels = ['cyto', 'mito', 'nucleus', 'other', 'secreted']"
      ],
      "metadata": {
        "id": "soTjnb1Rw6Oo"
      },
      "execution_count": null,
      "outputs": []
    },
    {
      "cell_type": "code",
      "execution_count": null,
      "metadata": {
        "id": "bi7Y-vY8E6NQ",
        "colab": {
          "base_uri": "https://localhost:8080/"
        },
        "outputId": "092cdd3c-a496-4cef-880a-4eec6bdda733"
      },
      "outputs": [
        {
          "output_type": "stream",
          "name": "stdout",
          "text": [
            "0.6727047031176527\n",
            "0.6738351254480287\n",
            "0.6737533796836109\n",
            "0.6738351254480287\n"
          ]
        }
      ],
      "source": [
        "X = output_df.drop(['id', 'label'], axis=1)\n",
        "y = output_df['label']\n",
        "X_train, X_test, y_train, y_test = train_test_split(X,y, test_size=0.2, random_state=42)\n",
        "m= XGBClassifier()\n",
        "m.fit(X_train, y_train)\n",
        "preds = m.predict(X_test)\n",
        "print(f1_score(preds, y_test, average='weighted'))\n",
        "print(accuracy_score(preds, y_test))\n",
        "print(precision_score(preds, y_test, average='weighted'))\n",
        "print(recall_score(preds, y_test, average='weighted'))\n",
        "from sklearn.preprocessing import StandardScaler\n"
      ]
    },
    {
      "cell_type": "code",
      "source": [
        "from sklearn.metrics import confusion_matrix, ConfusionMatrixDisplay\n",
        "cm = confusion_matrix(y_test, preds, labels=m.classes_)\n",
        "disp = ConfusionMatrixDisplay(confusion_matrix=cm,display_labels=labels)\n",
        "disp.plot(cmap='plasma')\n",
        "\n",
        "plt.show()"
      ],
      "metadata": {
        "colab": {
          "base_uri": "https://localhost:8080/",
          "height": 279
        },
        "id": "llu7kc0twaSb",
        "outputId": "f1982bea-82c1-45b0-d12a-5bffcb4ad7bb"
      },
      "execution_count": null,
      "outputs": [
        {
          "output_type": "display_data",
          "data": {
            "text/plain": [
              "<Figure size 432x288 with 2 Axes>"
            ],
            "image/png": "[encoded data removed]"
          },
          "metadata": {
            "needs_background": "light"
          }
        }
      ]
    }
  ],
  "metadata": {
    "colab": {
      "machine_shape": "hm",
      "provenance": []
    },
    "gpuClass": "standard",
    "kernelspec": {
      "display_name": "Python 3",
      "name": "python3"
    },
    "language_info": {
      "name": "python"
    }
  },
  "nbformat": 4,
  "nbformat_minor": 0
}